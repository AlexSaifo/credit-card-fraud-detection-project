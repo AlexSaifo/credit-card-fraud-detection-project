{
 "cells": [
  {
   "cell_type": "code",
   "execution_count": null,
   "metadata": {},
   "outputs": [],
   "source": [
    "csv_file = \"C:\\\\Users\\\\Moaaz\\\\Desktop\\\\nn project test\\\\creditcard.csv\""
   ]
  },
  {
   "cell_type": "code",
   "execution_count": null,
   "metadata": {},
   "outputs": [],
   "source": [
    "import numpy as np\n",
    "import matplotlib.pyplot as plt\n",
    "from mpl_toolkits.mplot3d import Axes3D\n",
    "\n",
    "from dense import Dense\n",
    "from activations import Tanh, Sigmoid\n",
    "from losses import mse, mse_prime\n",
    "import network \n",
    "# from .network import test\n",
    "import numpy as np\n",
    "import matplotlib.pyplot as plt\n",
    "import pandas as pd\n",
    "from sklearn.model_selection import train_test_split\n",
    "import seaborn as sns\n",
    "from scipy import stats\n",
    "from scipy.stats import shapiro\n",
    "\n",
    "\n",
    "\"\"\"Load data set and print info about it \"\"\"\n",
    "df = pd.read_csv(csv_file)\n",
    "print(df.info())\n",
    "print(df['Class'].value_counts())\n",
    "print(df.isnull().sum())\n",
    "\n",
    "\n",
    "\"\"\"normalize data set\"\"\"\n",
    "max_abs = df.abs().max()\n",
    "df = df / max_abs\n",
    "print(df)\n",
    "print (df.max())\n",
    "print (df.min())\n"
   ]
  },
  {
   "cell_type": "code",
   "execution_count": null,
   "metadata": {},
   "outputs": [],
   "source": [
    "\n",
    "\"\"\"Separate data into training and testing groups 60 , 40 \"\"\"\n",
    "Y = np.array(df['Class'])\n",
    "X = np.array(df.drop('Class', axis=1))\n",
    "X_train, X_test, Y_train, Y_test = train_test_split(\n",
    "    X, Y, test_size=0.4\n",
    ")\n",
    "\n",
    "Y_train = Y_train.reshape(Y_train.shape[0],1)\n",
    "Y_test = Y_test.reshape(Y_test.shape[0],1)\n",
    "\n",
    "# X_train = X_train.reshape(X_train.shape[0],X_train.shape[1],1)\n",
    "# Y_train = Y_train.reshape(Y_train.shape[0],Y_train.shape[1],1)\n",
    "\n",
    "print(\"X_train : \", X_train.shape)\n",
    "print(\"X_test : \" , X_test.shape)\n",
    "print(\"Y_train : \" , Y_train.shape)\n",
    "print(\"Y_test : \" , Y_test.shape)"
   ]
  },
  {
   "cell_type": "code",
   "execution_count": null,
   "metadata": {},
   "outputs": [],
   "source": [
    "\"\"\"\n",
    "#balance data set\n",
    "\n",
    "frauds = df.query('Class == 1')\n",
    "not_frauds = df.query('Class == 0')\n",
    "\n",
    "frauds['Class'].value_counts() ,not_frauds['Class'].value_counts()\n",
    "\n",
    "balanced_df = pd.concat([frauds,not_frauds.sample(len(frauds),random_state=1)])\n",
    "balanced_df = balanced_df.sample(frac=1,random_state=1)\n",
    "X_b = balanced_df.drop('Class',axis=1)\n",
    "y_b = balanced_df['Class']\n",
    "print(y_b)\n",
    "\n",
    "X_train, X_test, Y_train, Y_test = train_test_split(X_b,y_b,test_size=0.4)\n",
    "print(X_train.shape)\n",
    "print(Y_train.shape)\n",
    "print(X_test.shape)\n",
    "print(Y_test.shape)\n",
    "print(\"y_train value : \\n\", Y_train.value_counts())\n",
    "print(\"y_test value : \\n\", Y_test.value_counts())\n",
    "\n",
    "Y_train = np.array(Y_train)\n",
    "Y_test = np.array(Y_test)\n",
    "X_train = np.array(X_train)\n",
    "X_test = np.array(X_test)\n",
    "\n",
    "Y_train = Y_train.reshape(Y_train.shape[0],1)\n",
    "Y_test = Y_test.reshape(Y_test.shape[0],1)\n",
    "\n",
    "print(X_train.shape)\n",
    "print(Y_train.shape)\n",
    "print(X_test.shape)\n",
    "print(Y_test.shape)\n",
    "\n",
    "\n",
    "\"\"\""
   ]
  },
  {
   "cell_type": "code",
   "execution_count": null,
   "metadata": {},
   "outputs": [],
   "source": [
    "#init network\n",
    "\n",
    "\n",
    "\n",
    "\n",
    "\n",
    "\n",
    "X=X_train\n",
    "Y=Y_train\n",
    "\n",
    "zeros = (Y == 0).sum()\n",
    "ones = (Y == 1).sum()\n",
    "\n",
    "print (zeros, ones)\n",
    "nn = [\n",
    "    Dense(30, 100),\n",
    "    Sigmoid(),\n",
    "    Dense(100, 16),\n",
    "    Sigmoid(),\n",
    "    Dense(16, 8),\n",
    "    Sigmoid(),\n",
    "    Dense(8, 4),\n",
    "    Sigmoid(),\n",
    "    Dense(4, 2),\n",
    "    Sigmoid(),\n",
    "    Dense(2, 1),\n",
    "    Sigmoid()\n",
    "]\n"
   ]
  },
  {
   "cell_type": "code",
   "execution_count": null,
   "metadata": {},
   "outputs": [],
   "source": [
    "#train\n",
    "network.train(network=nn,loss= mse,loss_prime= mse_prime,x_train= X,y_train=  Y, epochs=10, learning_rate=0.5, w0= 1, w1=zeros/ones, verbose=1 )"
   ]
  },
  {
   "cell_type": "code",
   "execution_count": null,
   "metadata": {},
   "outputs": [],
   "source": [
    "network.test_my_model(nn, mse, mse_prime, X_test, Y_test)"
   ]
  },
  {
   "cell_type": "code",
   "execution_count": null,
   "metadata": {},
   "outputs": [],
   "source": []
  }
 ],
 "metadata": {
  "kernelspec": {
   "display_name": "Python 3 (ipykernel)",
   "language": "python",
   "name": "python3"
  },
  "language_info": {
   "codemirror_mode": {
    "name": "ipython",
    "version": 3
   },
   "file_extension": ".py",
   "mimetype": "text/x-python",
   "name": "python",
   "nbconvert_exporter": "python",
   "pygments_lexer": "ipython3",
   "version": "3.11.5"
  }
 },
 "nbformat": 4,
 "nbformat_minor": 2
}
